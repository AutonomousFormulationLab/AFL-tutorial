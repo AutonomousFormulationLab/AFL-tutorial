{
  "cells": [
    {
      "cell_type": "code",
      "execution_count": null,
      "id": "6a9309d7",
      "metadata": {},
      "outputs": [],
      "source": [
        "!git clone https://github.com/martintb/AFL-tutorial"
      ]
    },
    {
      "cell_type": "code",
      "execution_count": null,
      "id": "f467b6bc-a6c2-4639-b815-6ac0237b09c8",
      "metadata": {
        "colab": {
          "base_uri": "https://localhost:8080/"
        },
        "id": "f467b6bc-a6c2-4639-b815-6ac0237b09c8",
        "outputId": "eba3cbe6-6434-4512-82aa-41ddfed75559"
      },
      "outputs": [],
      "source": [
        "!pip wheel ./AFL-tutorial -w wheels\n",
        "!zip -r colab_wheels.zip ./wheels/"
      ]
    },
    {
      "cell_type": "code",
      "execution_count": null,
      "id": "9850765d",
      "metadata": {},
      "outputs": [],
      "source": [
        "!unzip colab_wheels.zip"
      ]
    },
    {
      "cell_type": "code",
      "execution_count": null,
      "id": "bdd63443",
      "metadata": {},
      "outputs": [],
      "source": [
        "\n",
        "!pip install --no-index --find-links ./wheels ./wheels/afl_tutorial-0.1.0-py3-none-any.whl"
      ]
    },
    {
      "cell_type": "code",
      "execution_count": 2,
      "id": "4fda1b16-45ba-46d8-b012-0b9a06868d97",
      "metadata": {
        "id": "4fda1b16-45ba-46d8-b012-0b9a06868d97"
      },
      "outputs": [],
      "source": [
        "%load_ext autoreload\n",
        "%autoreload 2"
      ]
    },
    {
      "cell_type": "code",
      "execution_count": null,
      "id": "38394c2b-9f17-4ec9-9b5f-5f5c20e92547",
      "metadata": {
        "id": "38394c2b-9f17-4ec9-9b5f-5f5c20e92547"
      },
      "outputs": [],
      "source": [
        "import warnings\n",
        "import os\n",
        "\n",
        "import sklearn.cluster\n",
        "from sklearn.metrics import pairwise\n",
        "from sklearn.gaussian_process import GaussianProcessClassifier\n",
        "from sklearn.gaussian_process.kernels import Matern\n",
        "\n",
        "import plotly.express as px\n",
        "import plotly.graph_objects as go\n",
        "\n",
        "import xarray as xr\n",
        "xr.set_options(display_expand_data=False)"
      ]
    },
    {
      "cell_type": "code",
      "execution_count": null,
      "id": "8AwsY4Jaw_16",
      "metadata": {
        "id": "8AwsY4Jaw_16"
      },
      "outputs": [],
      "source": [
        "from AFL.double_agent_tutorial import *\n",
        "from AFL.double_agent_tutorial.instruments.tutorial import *"
      ]
    }
  ],
  "metadata": {
    "colab": {
      "collapsed_sections": [
        "YG_O1Ye2D3A0",
        "a0d03df7-93cf-4811-9b1e-2bd3a1926ca1"
      ],
      "include_colab_link": true,
      "provenance": []
    },
    "kernelspec": {
      "display_name": "venv",
      "language": "python",
      "name": "python3"
    },
    "language_info": {
      "codemirror_mode": {
        "name": "ipython",
        "version": 3
      },
      "file_extension": ".py",
      "mimetype": "text/x-python",
      "name": "python",
      "nbconvert_exporter": "python",
      "pygments_lexer": "ipython3",
      "version": "3.10.6"
    }
  },
  "nbformat": 4,
  "nbformat_minor": 5
}
