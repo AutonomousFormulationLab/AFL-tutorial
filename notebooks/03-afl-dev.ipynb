{
  "cells": [
    {
      "cell_type": "markdown",
      "id": "tg9PPJTXJw5R",
      "metadata": {
        "id": "tg9PPJTXJw5R"
      },
      "source": [
        "# **AFL Agent Tutorial: Notebook 03** <a href=\"https://colab.research.google.com/github/martintb/AFL-tutorial/blob/main/notebooks/03-afl-dev.ipynb\" target=\"_parent\"><img src=\"https://colab.research.google.com/assets/colab-badge.svg\" alt=\"Open In Colab\"/></a>\n",
        "\n",
        "# The AFL Agent Codebase\n",
        "\n",
        "# Development Version\n",
        "\n",
        "*Author: Tyler Martin - tyler.martin@nist.gov*\n",
        "\n",
        "\n",
        "## Learning Goals\n",
        "\n",
        "This notebook will introduce the following concepts:\n",
        "\n",
        "- how to use the AFL.double_agent codebase to build decision pipelines\n"
      ]
    },
    {
      "cell_type": "markdown",
      "id": "a0d03df7-93cf-4811-9b1e-2bd3a1926ca1",
      "metadata": {
        "id": "a0d03df7-93cf-4811-9b1e-2bd3a1926ca1"
      },
      "source": [
        "# Setup\n",
        "\n",
        "**This may take several minutes to complete, please run ASAP**\n",
        "\n",
        "Please run this collapsed cell by clicking in the box to the left of *8 cells hidden*. This will `pip install` and `import` all necessary dependencies for this tutorial. There is not need to expand this cell block, but you can if you're interested in looking under the hood.\n",
        "\n",
        "\n",
        "If you've never used Google Colab before, [this FAQ](https://research.google.com/colaboratory/faq.html) may be useful to skim. It's very similar (and based off of) Jupyter, but divergent in several ways.\n",
        "\n",
        "**Warning!**\n",
        "\n",
        "If you disconnect for too long, you'll have to rerun this cell. Any text you type into this notebooks should always be saved, but variables in memory and files can dissappear when you disconnect.\n",
        "\n",
        "You're free to download this notebook and run it locally if you're inclined, but we will provide no support for this."
      ]
    },
    {
      "cell_type": "code",
      "execution_count": null,
      "id": "f467b6bc-a6c2-4639-b815-6ac0237b09c8",
      "metadata": {
        "id": "f467b6bc-a6c2-4639-b815-6ac0237b09c8"
      },
      "outputs": [],
      "source": [
        "!git clone https://github.com/martintb/AFL-tutorial"
      ]
    },
    {
      "cell_type": "code",
      "execution_count": null,
      "id": "d9529771-ab7a-4ae2-8d4e-4afb3fba6fa5",
      "metadata": {
        "id": "d9529771-ab7a-4ae2-8d4e-4afb3fba6fa5"
      },
      "outputs": [],
      "source": [
        "#!pip install --find-links ./AFL-tutorial/wheels --editable ./AFL-tutorial/\n",
        "\n",
        "!pip install git+https://github.com/usnistgov/AFL-agent"
      ]
    },
    {
      "cell_type": "code",
      "execution_count": null,
      "id": "261530e5",
      "metadata": {},
      "outputs": [],
      "source": [
        "import sys\n",
        "sys.path.insert(0,'./AFL-tutorial')"
      ]
    },
    {
      "cell_type": "code",
      "execution_count": null,
      "id": "4fda1b16-45ba-46d8-b012-0b9a06868d97",
      "metadata": {
        "id": "4fda1b16-45ba-46d8-b012-0b9a06868d97"
      },
      "outputs": [],
      "source": [
        "%load_ext autoreload\n",
        "%autoreload 2"
      ]
    },
    {
      "cell_type": "code",
      "execution_count": null,
      "id": "38394c2b-9f17-4ec9-9b5f-5f5c20e92547",
      "metadata": {
        "id": "38394c2b-9f17-4ec9-9b5f-5f5c20e92547"
      },
      "outputs": [],
      "source": [
        "import warnings\n",
        "import os\n",
        "\n",
        "import sklearn.cluster\n",
        "from sklearn.metrics import pairwise\n",
        "from sklearn.gaussian_process import GaussianProcessClassifier\n",
        "from sklearn.gaussian_process.kernels import Matern\n",
        "\n",
        "import plotly.express as px\n",
        "import plotly.graph_objects as go\n",
        "\n",
        "import xarray as xr\n",
        "xr.set_options(display_expand_data=False)"
      ]
    },
    {
      "cell_type": "code",
      "execution_count": null,
      "id": "M78QbNS19-lt",
      "metadata": {
        "id": "M78QbNS19-lt"
      },
      "outputs": [],
      "source": [
        "np.random.seed(240424)"
      ]
    },
    {
      "cell_type": "markdown",
      "id": "bcbc0338",
      "metadata": {
        "id": "bcbc0338"
      },
      "source": [
        "# Dev"
      ]
    },
    {
      "cell_type": "code",
      "execution_count": null,
      "id": "f2128111",
      "metadata": {},
      "outputs": [],
      "source": []
    }
  ],
  "metadata": {
    "colab": {
      "collapsed_sections": [
        "YG_O1Ye2D3A0",
        "a0d03df7-93cf-4811-9b1e-2bd3a1926ca1"
      ],
      "provenance": []
    },
    "kernelspec": {
      "display_name": "venv",
      "language": "python",
      "name": "python3"
    },
    "language_info": {
      "codemirror_mode": {
        "name": "ipython",
        "version": 3
      },
      "file_extension": ".py",
      "mimetype": "text/x-python",
      "name": "python",
      "nbconvert_exporter": "python",
      "pygments_lexer": "ipython3",
      "version": "3.10.6"
    }
  },
  "nbformat": 4,
  "nbformat_minor": 5
}
