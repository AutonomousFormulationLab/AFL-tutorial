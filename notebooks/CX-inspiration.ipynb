{
  "cells": [
    {
      "cell_type": "markdown",
      "id": "tg9PPJTXJw5R",
      "metadata": {
        "id": "tg9PPJTXJw5R"
      },
      "source": [
        "# **AFL Agent Tutorial: Challenge Inpsiration** <a href=\"https://colab.research.google.com/github/martintb/AFL-tutorial/blob/main/notebooks/CX-inspiration.ipynb\" target=\"_parent\"><img src=\"https://colab.research.google.com/assets/colab-badge.svg\" alt=\"Open In Colab\"/></a>\n",
        "\n",
        "*Author: Tyler Martin - tyler.martin@nist.gov*\n",
        "\n",
        "\n",
        "# This notebook provides ideas and inspiration for those attempting the AFL Agent challenges. Please note that most of these ideas are untested hypotheses and suggestions - they may or may not work in practice! The goal is to spark creativity and provide potential starting points for your own solutions.\n"
      ]
    },
    {
      "cell_type": "markdown",
      "id": "df0149af",
      "metadata": {},
      "source": [
        "# General"
      ]
    },
    {
      "cell_type": "markdown",
      "id": "012f75ba",
      "metadata": {},
      "source": []
    },
    {
      "cell_type": "markdown",
      "id": "84e317c1",
      "metadata": {},
      "source": [
        "# Method Specific"
      ]
    },
    {
      "cell_type": "markdown",
      "id": "00a23ee7",
      "metadata": {},
      "source": [
        "## Labeler"
      ]
    },
    {
      "cell_type": "markdown",
      "id": "be0246a5",
      "metadata": {},
      "source": [
        "- Smooth, scale, or transform your data to improve signal to noise.\n",
        "- Train a classifier instead of only using clustering.\n",
        "- Experiment with different similarity measures and tweak settings.\n",
        "- Try various clustering algorithms.\n",
        "- Combine predictions from multiple simple models.\n",
        "- Reduce data dimensions (e.g., using PCA) to focus on key features."
      ]
    },
    {
      "cell_type": "markdown",
      "id": "6fd21f48",
      "metadata": {},
      "source": [
        "## Extrapolation"
      ]
    },
    {
      "cell_type": "markdown",
      "id": "76d455e9",
      "metadata": {},
      "source": [
        "*FYI: This would be the hardest method to improve*\n",
        "\n",
        "- Try a different GP kernel!\n",
        "- Maybe something other than a GP might work better?\n",
        "- Level set methods?\n",
        "- Try tuning the GP kernel parameters"
      ]
    },
    {
      "cell_type": "markdown",
      "id": "a6df16cd",
      "metadata": {},
      "source": [
        "## Acquisition"
      ]
    },
    {
      "cell_type": "markdown",
      "id": "25fb4623",
      "metadata": {},
      "source": []
    },
    {
      "cell_type": "markdown",
      "id": "4bfbcc89",
      "metadata": {},
      "source": []
    }
  ],
  "metadata": {
    "colab": {
      "collapsed_sections": [
        "YG_O1Ye2D3A0",
        "a0d03df7-93cf-4811-9b1e-2bd3a1926ca1"
      ],
      "include_colab_link": true,
      "provenance": []
    },
    "kernelspec": {
      "display_name": "Python 3",
      "name": "python3"
    },
    "language_info": {
      "name": "python"
    }
  },
  "nbformat": 4,
  "nbformat_minor": 5
}
