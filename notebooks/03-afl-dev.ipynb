{
  "cells": [
    {
      "cell_type": "markdown",
      "id": "tg9PPJTXJw5R",
      "metadata": {
        "id": "tg9PPJTXJw5R"
      },
      "source": [
        "# **AFL Agent Tutorial: Notebook 03** <a href=\"https://colab.research.google.com/github/martintb/AFL-tutorial/blob/main/notebooks/03-afl-dev.ipynb\" target=\"_parent\"><img src=\"https://colab.research.google.com/assets/colab-badge.svg\" alt=\"Open In Colab\"/></a>\n",
        "\n",
        "# The AFL Agent Codebase\n",
        "\n",
        "# Development Version\n",
        "\n",
        "*Author: Tyler Martin - tyler.martin@nist.gov*\n",
        "\n",
        "\n",
        "## Learning Goals\n",
        "\n",
        "This notebook will introduce the following concepts:\n",
        "\n",
        "- how to use the AFL.double_agent codebase to build decision pipelines\n"
      ]
    },
    {
      "cell_type": "markdown",
      "id": "a0d03df7-93cf-4811-9b1e-2bd3a1926ca1",
      "metadata": {
        "id": "a0d03df7-93cf-4811-9b1e-2bd3a1926ca1"
      },
      "source": [
        "# Setup\n",
        "\n",
        "**This may take several minutes to complete, please run ASAP**\n",
        "\n",
        "Please run this collapsed cell by clicking in the box to the left of *8 cells hidden*. This will `pip install` and `import` all necessary dependencies for this tutorial. There is not need to expand this cell block, but you can if you're interested in looking under the hood.\n",
        "\n",
        "\n",
        "If you've never used Google Colab before, [this FAQ](https://research.google.com/colaboratory/faq.html) may be useful to skim. It's very similar (and based off of) Jupyter, but divergent in several ways.\n",
        "\n",
        "**Warning!**\n",
        "\n",
        "If you disconnect for too long, you'll have to rerun this cell. Any text you type into this notebooks should always be saved, but variables in memory and files can dissappear when you disconnect.\n",
        "\n",
        "You're free to download this notebook and run it locally if you're inclined, but we will provide no support for this."
      ]
    },
    {
      "cell_type": "code",
      "execution_count": null,
      "id": "f467b6bc-a6c2-4639-b815-6ac0237b09c8",
      "metadata": {
        "id": "f467b6bc-a6c2-4639-b815-6ac0237b09c8"
      },
      "outputs": [],
      "source": [
        "!git clone https://github.com/martintb/AFL-tutorial"
      ]
    },
    {
      "cell_type": "code",
      "execution_count": null,
      "id": "d9529771-ab7a-4ae2-8d4e-4afb3fba6fa5",
      "metadata": {
        "id": "d9529771-ab7a-4ae2-8d4e-4afb3fba6fa5"
      },
      "outputs": [],
      "source": [
        "!pip install --find-links ./AFL-tutorial/wheels --editable ./AFL-tutorial/\n",
        "!pip install git+https://github.com/usnistgov/AFL-agent"
      ]
    },
    {
      "cell_type": "code",
      "execution_count": null,
      "id": "261530e5",
      "metadata": {},
      "outputs": [],
      "source": [
        "import sys\n",
        "sys.path.insert(0,'./AFL-tutorial')"
      ]
    },
    {
      "cell_type": "code",
      "execution_count": null,
      "id": "4fda1b16-45ba-46d8-b012-0b9a06868d97",
      "metadata": {
        "id": "4fda1b16-45ba-46d8-b012-0b9a06868d97"
      },
      "outputs": [],
      "source": [
        "%load_ext autoreload\n",
        "%autoreload 2"
      ]
    },
    {
      "cell_type": "code",
      "execution_count": null,
      "id": "38394c2b-9f17-4ec9-9b5f-5f5c20e92547",
      "metadata": {
        "id": "38394c2b-9f17-4ec9-9b5f-5f5c20e92547"
      },
      "outputs": [],
      "source": [
        "import warnings\n",
        "import os\n",
        "\n",
        "import sklearn.cluster\n",
        "from sklearn.metrics import pairwise\n",
        "from sklearn.gaussian_process import GaussianProcessClassifier\n",
        "from sklearn.gaussian_process.kernels import Matern\n",
        "\n",
        "import plotly.express as px\n",
        "import plotly.graph_objects as go\n",
        "\n",
        "import xarray as xr\n",
        "xr.set_options(display_expand_data=False)"
      ]
    },
    {
      "cell_type": "code",
      "execution_count": null,
      "id": "2b13c997",
      "metadata": {},
      "outputs": [],
      "source": [
        "from AFL.double_agent import *\n",
        "\n",
        "from AFL.double_agent_tutorial import *\n",
        "from AFL.double_agent_tutorial.instruments.tutorial import "
      ]
    },
    {
      "cell_type": "code",
      "execution_count": null,
      "id": "M78QbNS19-lt",
      "metadata": {
        "id": "M78QbNS19-lt"
      },
      "outputs": [],
      "source": [
        "np.random.seed(240424)"
      ]
    },
    {
      "cell_type": "markdown",
      "id": "bcbc0338",
      "metadata": {
        "id": "bcbc0338"
      },
      "source": [
        "# Make Starting Dataset"
      ]
    },
    {
      "cell_type": "code",
      "execution_count": null,
      "id": "a461c2ef",
      "metadata": {},
      "outputs": [],
      "source": [
        "instrument = get_virtual_instrument()\n",
        "instrument"
      ]
    },
    {
      "cell_type": "code",
      "execution_count": null,
      "id": "97e7f820",
      "metadata": {},
      "outputs": [],
      "source": [
        "composition_list = [\n",
        "    {'a':1/3,'b':1/3,'c':1/3},\n",
        "    {'a':0.0,'b':0.5,'c':0.5},\n",
        "    {'a':0.5,'b':0.0,'c':0.5},\n",
        "    {'a':0.5,'b':0.5,'c':0.0},\n",
        "]\n",
        "\n",
        "input_dataset = instrument.measure_multiple(composition_list)\n",
        "input_dataset"
      ]
    },
    {
      "cell_type": "markdown",
      "id": "0a369f63",
      "metadata": {},
      "source": [
        "Note that the above code output a dataset with multiple entries in the **sample** dimension. Since the sample dimension does not have a coordinate defined for it, you can index it using integer indices.\n",
        "\n",
        "Below we show how to plot the **sas** data variable."
      ]
    },
    {
      "cell_type": "code",
      "execution_count": null,
      "id": "1f35e5ea",
      "metadata": {},
      "outputs": [],
      "source": [
        "input_dataset.sas.plot.line(\n",
        "    x='q',\n",
        "    xscale='log',\n",
        "    yscale='log',\n",
        "    marker='.',\n",
        "    ls='none',\n",
        ")"
      ]
    },
    {
      "cell_type": "markdown",
      "id": "6383a901",
      "metadata": {},
      "source": [
        "We can also plot the compositions using the `plot_ternary` helper function. Remember to double-click the ternary to view the compositions along the edges."
      ]
    },
    {
      "cell_type": "code",
      "execution_count": null,
      "id": "4f877abd",
      "metadata": {},
      "outputs": [],
      "source": [
        "plot_ternary(input_dataset,components=['c','a','b'],include_surface=False)"
      ]
    },
    {
      "cell_type": "markdown",
      "id": "4251b683",
      "metadata": {},
      "source": [
        "As an aside, if you want to gather multiple `Dataset` variables into a single `DataArray` you can do so using `.to_array()`. Below, we gather the composition variables and covert them using this method"
      ]
    },
    {
      "cell_type": "code",
      "execution_count": null,
      "id": "1440de6c",
      "metadata": {},
      "outputs": [],
      "source": [
        "input_dataset[['c','a','b']].to_array()"
      ]
    },
    {
      "cell_type": "markdown",
      "id": "8f6e51eb",
      "metadata": {},
      "source": [
        "Notice that we now have a second \"variable\" dimension. You can choose the name of this dimension by passing a keyword argument to the `.to_array()` method.\n",
        "\n",
        "Its common that we want the first dimension to be the **sample** dimension so we can add a transpose to complete the transform"
      ]
    },
    {
      "cell_type": "code",
      "execution_count": null,
      "id": "e59c37c2",
      "metadata": {},
      "outputs": [],
      "source": [
        "input_dataset[['c','a','b']].to_array().transpose('sample',...)"
      ]
    },
    {
      "cell_type": "markdown",
      "id": "f2128111",
      "metadata": {},
      "source": [
        "# Building an AFL Pipeline"
      ]
    },
    {
      "cell_type": "markdown",
      "id": "bade7875",
      "metadata": {},
      "source": [
        "## First Steps"
      ]
    },
    {
      "cell_type": "code",
      "execution_count": null,
      "id": "8e2c7b35",
      "metadata": {},
      "outputs": [],
      "source": [
        "with Pipeline() as my_first_pipeline:\n",
        "    SavgolFilter(input_variable='sans', output_variable='sans_deriv1', dim='sans_q', derivative=1)"
      ]
    },
    {
      "cell_type": "markdown",
      "id": "e809c640",
      "metadata": {},
      "source": [
        "## A complete Pipeline"
      ]
    },
    {
      "cell_type": "markdown",
      "id": "b55ab0e0",
      "metadata": {},
      "source": [
        "## Visualizing Calculations"
      ]
    },
    {
      "cell_type": "markdown",
      "id": "2e3d7db2",
      "metadata": {},
      "source": [
        "## Adding a New Pipeline Operation (PipelineOp)"
      ]
    },
    {
      "cell_type": "markdown",
      "id": "c00e2508",
      "metadata": {},
      "source": [
        "# Autonomous Loop"
      ]
    },
    {
      "cell_type": "markdown",
      "id": "8a513215",
      "metadata": {},
      "source": []
    }
  ],
  "metadata": {
    "colab": {
      "collapsed_sections": [
        "YG_O1Ye2D3A0",
        "a0d03df7-93cf-4811-9b1e-2bd3a1926ca1"
      ],
      "provenance": []
    },
    "kernelspec": {
      "display_name": "venv",
      "language": "python",
      "name": "python3"
    },
    "language_info": {
      "codemirror_mode": {
        "name": "ipython",
        "version": 3
      },
      "file_extension": ".py",
      "mimetype": "text/x-python",
      "name": "python",
      "nbconvert_exporter": "python",
      "pygments_lexer": "ipython3",
      "version": "3.10.6"
    }
  },
  "nbformat": 4,
  "nbformat_minor": 5
}
